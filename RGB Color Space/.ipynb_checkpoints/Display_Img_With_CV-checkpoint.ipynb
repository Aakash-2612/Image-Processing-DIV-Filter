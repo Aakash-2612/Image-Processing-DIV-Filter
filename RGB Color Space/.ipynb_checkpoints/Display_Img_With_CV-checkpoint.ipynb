{
 "cells": [
  {
   "cell_type": "code",
   "execution_count": 2,
   "id": "56043d39-3ecb-4cec-bd02-4de0e30bfa38",
   "metadata": {},
   "outputs": [],
   "source": [
    "import cv2 as cv\n",
    "import numpy as np\n",
    "import matplotlib.pyplot as plt"
   ]
  },
  {
   "cell_type": "code",
   "execution_count": 3,
   "id": "cd8413e4",
   "metadata": {},
   "outputs": [
    {
     "data": {
      "text/plain": [
       "13"
      ]
     },
     "execution_count": 3,
     "metadata": {},
     "output_type": "execute_result"
    }
   ],
   "source": [
    "img = cv.imread(\"rgb.jpeg\")\n",
    "img = cv.cvtColor(img, cv.COLOR_BGR2RGB)\n",
    "# plt.imshow(img)\n",
    "\n",
    "cv.imshow(\"Image\", img)\n",
    "cv.waitKey(0)\n",
    "\n",
    "img = cv.imread(\"Transition.jpg\")\n",
    "img = cv.cvtColor(img, cv.COLOR_BGR2RGB)\n",
    "# plt.imshow(img)\n",
    "\n",
    "cv.imshow(\"Image\", img)\n",
    "cv.waitKey(0)\n",
    "cv.destroyAllWindows()"
   ]
  },
  {
   "cell_type": "code",
   "execution_count": 3,
   "id": "bc60450c",
   "metadata": {},
   "outputs": [
    {
     "data": {
      "text/plain": [
       "-1"
      ]
     },
     "execution_count": 3,
     "metadata": {},
     "output_type": "execute_result"
    }
   ],
   "source": [
    "img = cv.imread('rgb.jpeg')\n",
    "img = cv.cvtColor(img, cv.COLOR_BGR2RGB)\n",
    "\n",
    "r = img[ :  , : , 0 ]  # - Red\n",
    "g = img[ :  , : , 1 ]  # - Green\n",
    "b = img[ :  , : , 2 ]  # - Blue\n",
    "\n",
    "\n",
    "cv.imshow(\"Red\",r)\n",
    "cv.waitKey(0)\n",
    "\n",
    "cv.imshow(\"Green\",g)\n",
    "cv.waitKey(0)\n",
    "\n",
    "cv.imshow(\"Blue\",b)\n",
    "cv.waitKey(0)"
   ]
  },
  {
   "cell_type": "code",
   "execution_count": null,
   "id": "bbb5893b",
   "metadata": {},
   "outputs": [],
   "source": []
  }
 ],
 "metadata": {
  "kernelspec": {
   "display_name": "Python 3 (ipykernel)",
   "language": "python",
   "name": "python3"
  },
  "language_info": {
   "codemirror_mode": {
    "name": "ipython",
    "version": 3
   },
   "file_extension": ".py",
   "mimetype": "text/x-python",
   "name": "python",
   "nbconvert_exporter": "python",
   "pygments_lexer": "ipython3",
   "version": "3.10.6"
  }
 },
 "nbformat": 4,
 "nbformat_minor": 5
}
