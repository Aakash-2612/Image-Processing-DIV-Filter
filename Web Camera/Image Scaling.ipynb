{
 "cells": [
  {
   "cell_type": "code",
   "execution_count": 1,
   "id": "86aae24f",
   "metadata": {},
   "outputs": [],
   "source": [
    "import cv2 as cv\n",
    "import numpy as np\n",
    "import matplotlib.pyplot as plt"
   ]
  },
  {
   "cell_type": "markdown",
   "id": "0c03d1d0",
   "metadata": {},
   "source": [
    "# Image Scaling"
   ]
  },
  {
   "cell_type": "code",
   "execution_count": 8,
   "id": "8d5b464a",
   "metadata": {},
   "outputs": [],
   "source": [
    "cam = cv.VideoCapture(0)\n",
    "\n",
    "while True:\n",
    "    _, img = cam.read()\n",
    "    \n",
    "    img = cv.flip(img, 1)\n",
    "    resized_1 = cv.resize(img, (int(img.shape[1]/2), int(img.shape[0]/2)))\n",
    "    resized_2 = cv.resize(img, (int(img.shape[1]/4), int(img.shape[0]/4)))\n",
    "    \n",
    "    cv.imshow(\"Frame\", img)\n",
    "    cv.imshow(\"Resize-1\", resized_1)\n",
    "    cv.imshow(\"Resize-2\", resized_2)\n",
    "    \n",
    "    key = cv.waitKey(30)\n",
    "    \n",
    "    if key == 27:\n",
    "        cam.release()\n",
    "        break"
   ]
  },
  {
   "cell_type": "code",
   "execution_count": 3,
   "id": "dbb0e395",
   "metadata": {},
   "outputs": [
    {
     "data": {
      "text/plain": [
       "(480, 640, 3)"
      ]
     },
     "execution_count": 3,
     "metadata": {},
     "output_type": "execute_result"
    }
   ],
   "source": [
    "img.shape"
   ]
  },
  {
   "cell_type": "code",
   "execution_count": 4,
   "id": "7d659490",
   "metadata": {},
   "outputs": [
    {
     "data": {
      "text/plain": [
       "0.75"
      ]
     },
     "execution_count": 4,
     "metadata": {},
     "output_type": "execute_result"
    }
   ],
   "source": [
    "480/640"
   ]
  },
  {
   "cell_type": "code",
   "execution_count": 5,
   "id": "5e4bff28",
   "metadata": {},
   "outputs": [
    {
     "data": {
      "text/plain": [
       "240.0"
      ]
     },
     "execution_count": 5,
     "metadata": {},
     "output_type": "execute_result"
    }
   ],
   "source": [
    "480/2"
   ]
  },
  {
   "cell_type": "code",
   "execution_count": 6,
   "id": "ece04f6a",
   "metadata": {},
   "outputs": [
    {
     "data": {
      "text/plain": [
       "320.0"
      ]
     },
     "execution_count": 6,
     "metadata": {},
     "output_type": "execute_result"
    }
   ],
   "source": [
    "640/2"
   ]
  },
  {
   "cell_type": "code",
   "execution_count": null,
   "id": "9562bfb2",
   "metadata": {},
   "outputs": [],
   "source": []
  }
 ],
 "metadata": {
  "kernelspec": {
   "display_name": "Python 3 (ipykernel)",
   "language": "python",
   "name": "python3"
  },
  "language_info": {
   "codemirror_mode": {
    "name": "ipython",
    "version": 3
   },
   "file_extension": ".py",
   "mimetype": "text/x-python",
   "name": "python",
   "nbconvert_exporter": "python",
   "pygments_lexer": "ipython3",
   "version": "3.10.6"
  }
 },
 "nbformat": 4,
 "nbformat_minor": 5
}
