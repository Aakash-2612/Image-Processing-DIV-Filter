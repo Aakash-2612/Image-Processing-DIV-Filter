{
 "cells": [
  {
   "cell_type": "code",
   "execution_count": 1,
   "id": "78c3a574",
   "metadata": {},
   "outputs": [],
   "source": [
    "import cv2 as cv\n",
    "import numpy as np\n",
    "import matplotlib.pyplot as plt"
   ]
  },
  {
   "cell_type": "markdown",
   "id": "2e031b2c",
   "metadata": {},
   "source": [
    "# Press Enter (13) to take selfie"
   ]
  },
  {
   "cell_type": "code",
   "execution_count": 5,
   "id": "d6517243",
   "metadata": {},
   "outputs": [],
   "source": [
    "cam = cv.VideoCapture(0)\n",
    "while True:\n",
    "\n",
    "    _, img = cam.read()\n",
    "    \n",
    "    img = cv.flip(img, 1) \n",
    "    \n",
    "    gray = cv.cvtColor(img, cv.COLOR_RGB2GRAY)\n",
    "    hsv  = cv.cvtColor(img, cv.COLOR_RGB2HSV)\n",
    "   \n",
    "    cv.imshow(\"Frame\",img)\n",
    "    \n",
    "    key = cv.waitKey(20)\n",
    "    \n",
    "    if (key == 13):\n",
    "        \n",
    "        cv.imwrite('Selfie.png', img)\n",
    "        cv.imwrite('Selfie_Gray.png', gray)\n",
    "        cv.imwrite('Selfie_HSV.png', hsv)\n",
    "        cam.release()\n",
    "        \n",
    "        break"
   ]
  },
  {
   "cell_type": "markdown",
   "id": "d8526bf1",
   "metadata": {},
   "source": [
    "# Taking Multiple selfie"
   ]
  },
  {
   "cell_type": "code",
   "execution_count": null,
   "id": "25792d0e",
   "metadata": {},
   "outputs": [],
   "source": [
    "cam = cv.VideoCapture(0)\n",
    "c = 1\n",
    "while True:\n",
    "\n",
    "    _, img = cam.read()\n",
    "    \n",
    "    img = cv.flip(img, 1) \n",
    "    \n",
    "    gray = cv.cvtColor(img, cv.COLOR_RGB2GRAY)\n",
    "    hsv  = cv.cvtColor(img, cv.COLOR_RGB2HSV)\n",
    "   \n",
    "    cv.imshow(\"Frame\",img)\n",
    "    \n",
    "    key = cv.waitKey(30)\n",
    "    \n",
    "    if key == 13:\n",
    "        cv.imwrite(\"Selfie/Selfie_\" + str(c) + \".png\", img)\n",
    "        c += 1\n",
    "    \n",
    "    if (key == 27):\n",
    "        cam.release()\n",
    "        break"
   ]
  },
  {
   "cell_type": "code",
   "execution_count": null,
   "id": "6d093a4a",
   "metadata": {},
   "outputs": [],
   "source": []
  }
 ],
 "metadata": {
  "kernelspec": {
   "display_name": "Python 3 (ipykernel)",
   "language": "python",
   "name": "python3"
  },
  "language_info": {
   "codemirror_mode": {
    "name": "ipython",
    "version": 3
   },
   "file_extension": ".py",
   "mimetype": "text/x-python",
   "name": "python",
   "nbconvert_exporter": "python",
   "pygments_lexer": "ipython3",
   "version": "3.10.6"
  }
 },
 "nbformat": 4,
 "nbformat_minor": 5
}
