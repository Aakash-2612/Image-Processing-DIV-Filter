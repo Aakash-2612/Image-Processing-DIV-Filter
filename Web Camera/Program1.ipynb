{
 "cells": [
  {
   "cell_type": "code",
   "execution_count": 1,
   "id": "855f50af-2775-4298-baaf-611de0f59bf0",
   "metadata": {},
   "outputs": [],
   "source": [
    "import cv2 as cv\n",
    "import numpy as np\n",
    "import matplotlib.pyplot as plt"
   ]
  },
  {
   "cell_type": "markdown",
   "id": "49ce4963",
   "metadata": {},
   "source": [
    "# 1. Working with Webcam"
   ]
  },
  {
   "cell_type": "code",
   "execution_count": 2,
   "id": "77cb9aaf",
   "metadata": {},
   "outputs": [],
   "source": [
    "cam = cv.VideoCapture(0)\n",
    "\n",
    "while True:\n",
    "    _, img = cam.read()\n",
    "    \n",
    "    img = cv.flip(img, 1)\n",
    "    frame = img[100:400, 200:450 , :]\n",
    "    \n",
    "    hsv = cv.cvtColor(img, cv.COLOR_RGB2HSV)\n",
    "\n",
    "    #RGB Extraction\n",
    "    r = img[:,:,0]\n",
    "    g = img[:,:,1]\n",
    "    b = img[:,:,2]\n",
    "    \n",
    "    #HSV Extraction\n",
    "    h = hsv[:,:,0]\n",
    "    s = hsv[:,:,1]\n",
    "    v = hsv[:,:,2]\n",
    "\n",
    "    #RGB Frame Display\n",
    "    cv.imshow(\"Frame\",img)\n",
    "    cv.imshow(\"Red\"  ,r)\n",
    "    cv.imshow(\"Green\",g)\n",
    "    cv.imshow(\"Blue\" ,b)\n",
    "  \n",
    "    #HSV Frame Display    \n",
    "    cv.imshow(\"HSV\"  ,hsv)\n",
    "    cv.imshow(\"Hue\"  ,h)\n",
    "    cv.imshow(\"Saturation\",s)\n",
    "    cv.imshow(\"Value\",v)\n",
    "#     cv.imshow(\"Cropped\", frame)\n",
    "\n",
    "    key = cv.waitKey(30)\n",
    "    \n",
    "    if (key == 27):     # Escape Key   \n",
    "        cam.release()\n",
    "        break"
   ]
  },
  {
   "cell_type": "code",
   "execution_count": 6,
   "id": "f888ba56",
   "metadata": {},
   "outputs": [
    {
     "data": {
      "text/plain": [
       "(480, 640, 3)"
      ]
     },
     "execution_count": 6,
     "metadata": {},
     "output_type": "execute_result"
    }
   ],
   "source": [
    "img.shape"
   ]
  },
  {
   "cell_type": "code",
   "execution_count": null,
   "id": "831826ea",
   "metadata": {},
   "outputs": [],
   "source": []
  }
 ],
 "metadata": {
  "kernelspec": {
   "display_name": "Python 3 (ipykernel)",
   "language": "python",
   "name": "python3"
  },
  "language_info": {
   "codemirror_mode": {
    "name": "ipython",
    "version": 3
   },
   "file_extension": ".py",
   "mimetype": "text/x-python",
   "name": "python",
   "nbconvert_exporter": "python",
   "pygments_lexer": "ipython3",
   "version": "3.10.6"
  }
 },
 "nbformat": 4,
 "nbformat_minor": 5
}
