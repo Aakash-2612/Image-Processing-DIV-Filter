{
 "cells": [
  {
   "cell_type": "code",
   "execution_count": 1,
   "id": "d8e5efc5",
   "metadata": {},
   "outputs": [],
   "source": [
    "import cv2 as cv\n",
    "import matplotlib.pyplot as plt\n",
    "import numpy as np"
   ]
  },
  {
   "cell_type": "markdown",
   "id": "e9fb15a1",
   "metadata": {},
   "source": [
    "# Draw Rectangle"
   ]
  },
  {
   "cell_type": "code",
   "execution_count": 9,
   "id": "34e8c355",
   "metadata": {},
   "outputs": [],
   "source": [
    "cam = cv.VideoCapture(0)\n",
    "\n",
    "while True:\n",
    "    _, img = cam.read()\n",
    "    \n",
    "    img = cv.flip(img, 1)\n",
    "    \n",
    "    img = cv.rectangle(img, (175, 100), (425, 405), color = (255, 0 , 0 ), thickness = 3)   #  BGR Color of the rectangle\n",
    "    img = cv.rectangle(img, (170, 95) , (430, 410), color = ( 0 ,255, 0 ), thickness = 3)\n",
    "    img = cv.rectangle(img, (165, 90) , (435, 415), color = ( 0 , 0 ,255), thickness = 3)\n",
    "     \n",
    "    cv.imshow(\"Frame\", img)\n",
    "    \n",
    "    key = cv.waitKey(30)\n",
    "    if key == 27:\n",
    "        cam.release()\n",
    "        break"
   ]
  },
  {
   "cell_type": "markdown",
   "id": "21ebf3f5",
   "metadata": {},
   "source": [
    "# Draw Circle"
   ]
  },
  {
   "cell_type": "code",
   "execution_count": 32,
   "id": "24512d98",
   "metadata": {},
   "outputs": [],
   "source": [
    "cam = cv.VideoCapture(0)\n",
    "\n",
    "while True:\n",
    "    _, img = cam.read()\n",
    "    \n",
    "    img = cv.flip(img, 1)\n",
    "    \n",
    "    img = cv.rectangle(img, (150, 85) , (450, 405), color = (255, 0 , 0 ), thickness = 3)   #  BGR Color of the rectangle\n",
    "    img = cv.rectangle(img, (145, 80) , (455, 410), color = ( 0 ,255, 0 ), thickness = 3)\n",
    "    img = cv.rectangle(img, (140, 75) , (460, 415), color = ( 0 , 0 ,255), thickness = 3)\n",
    "    \n",
    "    img = cv.circle(img, (295, 250), (170), (255, 255, 255), 3)\n",
    "     \n",
    "    cv.imshow(\"Frame\", img)\n",
    "    \n",
    "    key = cv.waitKey(30)\n",
    "    if key == 27:\n",
    "        cam.release()\n",
    "        break"
   ]
  },
  {
   "cell_type": "markdown",
   "id": "b4ca54cc",
   "metadata": {},
   "source": [
    "# Writing Text"
   ]
  },
  {
   "cell_type": "code",
   "execution_count": 39,
   "id": "d604895a",
   "metadata": {},
   "outputs": [],
   "source": [
    "cam = cv.VideoCapture(0)\n",
    "\n",
    "while True:\n",
    "    _, img = cam.read()\n",
    "    \n",
    "    img = cv.flip(img, 1)\n",
    "    img = cv.putText(img, 'Aakash Kumar Yadav', (80, 80), cv.FONT_HERSHEY_PLAIN, 3, (0, 0, 255), 3)\n",
    "     \n",
    "    cv.imshow(\"Frame\", img)\n",
    "    \n",
    "    key = cv.waitKey(30)\n",
    "    if key == 13:\n",
    "        cv.imwrite(\"Selfie/Name.png\", img)\n",
    "        \n",
    "    if key == 27:\n",
    "        cam.release()\n",
    "        break"
   ]
  },
  {
   "cell_type": "code",
   "execution_count": null,
   "id": "969d19ed",
   "metadata": {},
   "outputs": [],
   "source": []
  }
 ],
 "metadata": {
  "kernelspec": {
   "display_name": "Python 3 (ipykernel)",
   "language": "python",
   "name": "python3"
  },
  "language_info": {
   "codemirror_mode": {
    "name": "ipython",
    "version": 3
   },
   "file_extension": ".py",
   "mimetype": "text/x-python",
   "name": "python",
   "nbconvert_exporter": "python",
   "pygments_lexer": "ipython3",
   "version": "3.10.6"
  }
 },
 "nbformat": 4,
 "nbformat_minor": 5
}
